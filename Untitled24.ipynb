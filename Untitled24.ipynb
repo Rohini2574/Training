{
  "nbformat": 4,
  "nbformat_minor": 0,
  "metadata": {
    "colab": {
      "provenance": [],
      "authorship_tag": "ABX9TyMrLJmbnr71R9pHcLFc8CSy",
      "include_colab_link": true
    },
    "kernelspec": {
      "name": "python3",
      "display_name": "Python 3"
    },
    "language_info": {
      "name": "python"
    }
  },
  "cells": [
    {
      "cell_type": "markdown",
      "metadata": {
        "id": "view-in-github",
        "colab_type": "text"
      },
      "source": [
        "<a href=\"https://colab.research.google.com/github/Rohini2574/Training/blob/main/Untitled24.ipynb\" target=\"_parent\"><img src=\"https://colab.research.google.com/assets/colab-badge.svg\" alt=\"Open In Colab\"/></a>"
      ]
    },
    {
      "cell_type": "code",
      "execution_count": 21,
      "metadata": {
        "colab": {
          "base_uri": "https://localhost:8080/"
        },
        "id": "JCd_9yi8a8mH",
        "outputId": "5f3cfd57-1324-4f57-b092-f821c8a0090c"
      },
      "outputs": [
        {
          "output_type": "stream",
          "name": "stderr",
          "text": [
            "[nltk_data] Downloading package punkt to /root/nltk_data...\n",
            "[nltk_data]   Package punkt is already up-to-date!\n",
            "[nltk_data] Downloading package stopwords to /root/nltk_data...\n",
            "[nltk_data]   Package stopwords is already up-to-date!\n",
            "[nltk_data] Downloading package wordnet to /root/nltk_data...\n",
            "[nltk_data]   Package wordnet is already up-to-date!\n",
            "[nltk_data] Downloading package punkt_tab to /root/nltk_data...\n",
            "[nltk_data]   Package punkt_tab is already up-to-date!\n",
            "[nltk_data] Downloading package omw-1.4 to /root/nltk_data...\n"
          ]
        },
        {
          "output_type": "execute_result",
          "data": {
            "text/plain": [
              "True"
            ]
          },
          "metadata": {},
          "execution_count": 21
        }
      ],
      "source": [
        "import nltk\n",
        "import string\n",
        "import numpy as np\n",
        "from sklearn.feature_extraction.text import TfidfVectorizer\n",
        "from sklearn.metrics.pairwise import cosine_similarity\n",
        "from nltk.corpus import stopwords\n",
        "from nltk.tokenize import word_tokenize\n",
        "from nltk.stem import WordNetLemmatizer\n",
        "nltk.download('punkt')\n",
        "nltk.download('stopwords')\n",
        "nltk.download('wordnet')\n",
        "nltk.download('punkt_tab')\n",
        "from nltk.stem import WordNetLemmatizer\n",
        "nltk.download('omw-1.4')\n"
      ]
    },
    {
      "cell_type": "code",
      "source": [
        "review1=\"The movie was so fantastic ,I loved the acting and plot\"\n",
        "review2=\"The movie was so boring ,I hated the acting and plot\""
      ],
      "metadata": {
        "id": "kKL1f_ercFcd"
      },
      "execution_count": 22,
      "outputs": []
    },
    {
      "cell_type": "code",
      "source": [
        "def preprocess_text(text):\n",
        "  # Import WordNetLemmatizer inside the function\n",
        "  from nltk.stem import WordNetLemmatizer\n",
        "  tokens=word_tokenize(text)\n",
        "  stop_words=set(stopwords.words('english'))\n",
        "  tokens=[word for word in tokens if word not in stop_words]\n",
        "  lemmetizer=WordNetLemmatizer()\n",
        "  tokens=[lemmetizer.lemmatize(word) for word in tokens]\n",
        "  return ' '.join(tokens)"
      ],
      "metadata": {
        "id": "2kyJc9ymchs6"
      },
      "execution_count": 27,
      "outputs": []
    },
    {
      "cell_type": "code",
      "source": [
        "a=preprocess_text(review1)"
      ],
      "metadata": {
        "id": "vZSlq7oddxLi"
      },
      "execution_count": 31,
      "outputs": []
    },
    {
      "cell_type": "code",
      "source": [
        "b=preprocess_text(review2)"
      ],
      "metadata": {
        "id": "GjiOYSGoeIQM"
      },
      "execution_count": 32,
      "outputs": []
    },
    {
      "cell_type": "code",
      "source": [
        "vectorizer=TfidfVectorizer()\n",
        "vectors=vectorizer.fit_transform([a,b])\n",
        "vectors.toarray()"
      ],
      "metadata": {
        "colab": {
          "base_uri": "https://localhost:8080/"
        },
        "id": "yv9WWaMAfEtF",
        "outputId": "ec0e0ec9-2682-41f1-fa51-cf69076c6e95"
      },
      "execution_count": 33,
      "outputs": [
        {
          "output_type": "execute_result",
          "data": {
            "text/plain": [
              "array([[0.35464863, 0.        , 0.49844628, 0.        , 0.49844628,\n",
              "        0.35464863, 0.35464863, 0.35464863],\n",
              "       [0.35464863, 0.49844628, 0.        , 0.49844628, 0.        ,\n",
              "        0.35464863, 0.35464863, 0.35464863]])"
            ]
          },
          "metadata": {},
          "execution_count": 33
        }
      ]
    },
    {
      "cell_type": "code",
      "source": [
        "cosine_sim=cosine_similarity(vectors[0],vectors[1])[0][0]\n",
        "print(round(cosine_sim,3))"
      ],
      "metadata": {
        "colab": {
          "base_uri": "https://localhost:8080/"
        },
        "id": "k0YBgQTgfacl",
        "outputId": "a2099a09-69e0-40b5-e2ba-51e780254e06"
      },
      "execution_count": 35,
      "outputs": [
        {
          "output_type": "stream",
          "name": "stdout",
          "text": [
            "0.503\n"
          ]
        }
      ]
    },
    {
      "cell_type": "code",
      "source": [],
      "metadata": {
        "id": "9Wyx9ngtgTKZ"
      },
      "execution_count": null,
      "outputs": []
    }
  ]
}