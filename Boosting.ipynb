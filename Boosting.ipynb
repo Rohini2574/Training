{
  "nbformat": 4,
  "nbformat_minor": 0,
  "metadata": {
    "colab": {
      "provenance": [],
      "authorship_tag": "ABX9TyMJC0zjEdsHaRK0dg+1tpBb",
      "include_colab_link": true
    },
    "kernelspec": {
      "name": "python3",
      "display_name": "Python 3"
    },
    "language_info": {
      "name": "python"
    }
  },
  "cells": [
    {
      "cell_type": "markdown",
      "metadata": {
        "id": "view-in-github",
        "colab_type": "text"
      },
      "source": [
        "<a href=\"https://colab.research.google.com/github/Rohini2574/Training/blob/main/Boosting.ipynb\" target=\"_parent\"><img src=\"https://colab.research.google.com/assets/colab-badge.svg\" alt=\"Open In Colab\"/></a>"
      ]
    },
    {
      "cell_type": "code",
      "execution_count": 1,
      "metadata": {
        "colab": {
          "base_uri": "https://localhost:8080/"
        },
        "id": "4nHdYo3Uxxcl",
        "outputId": "5b51dc8e-4451-4c05-a99b-586020a950ea"
      },
      "outputs": [
        {
          "output_type": "stream",
          "name": "stderr",
          "text": [
            "[nltk_data] Downloading package punkt to /root/nltk_data...\n",
            "[nltk_data]   Unzipping tokenizers/punkt.zip.\n",
            "[nltk_data] Downloading package punkt_tab to /root/nltk_data...\n",
            "[nltk_data]   Unzipping tokenizers/punkt_tab.zip.\n",
            "[nltk_data] Downloading package stopwords to /root/nltk_data...\n",
            "[nltk_data]   Unzipping corpora/stopwords.zip.\n"
          ]
        },
        {
          "output_type": "stream",
          "name": "stdout",
          "text": [
            "Dataset URL: https://www.kaggle.com/datasets/abdallahwagih/spam-emails\n",
            "License(s): apache-2.0\n",
            "Downloading spam-emails.zip to /content\n",
            "  0% 0.00/207k [00:00<?, ?B/s]\n",
            "100% 207k/207k [00:00<00:00, 16.4MB/s]\n",
            "Archive:  spam-emails.zip\n",
            "  inflating: spam.csv                \n"
          ]
        }
      ],
      "source": [
        "# Importing necessary libraries from the NLTK toolkit\n",
        "import nltk\n",
        "from nltk.tokenize import word_tokenize, sent_tokenize  # For tokenizing text into words and sentences\n",
        "\n",
        "# Importing stopwords from NLTK to remove common words that add little value\n",
        "from nltk.corpus import stopwords\n",
        "\n",
        "# Downloading required NLTK datasets\n",
        "nltk.download('punkt')  # Downloads tokenizer models for sentence and word tokenization\n",
        "nltk.download('punkt_tab')  # Optional: Additional support for tokenization\n",
        "nltk.download('stopwords')  # Downloads predefined stopword lists for various languages\n",
        "\n",
        "# Downloading the dataset from Kaggle using Kaggle CLI\n",
        "# Here, we download a dataset containing spam emails\n",
        "!kaggle datasets download -d abdallahwagih/spam-emails  # Downloads the spam emails dataset\n",
        "!unzip spam-emails.zip  # Extracts the downloaded dataset\n",
        "\n",
        "# Importing pandas for data manipulation\n",
        "import pandas as pd\n",
        "\n",
        "# Loading the dataset into a pandas DataFrame\n",
        "# The CSV file contains columns like 'Message' (email text) and 'Label' (spam/not spam indicator)\n",
        "df = pd.read_csv(\"spam.csv\")\n",
        "\n",
        "# Step to clean the text data\n",
        "# - Removing punctuation, special characters, and multiple spaces\n",
        "# - Preparing the data for tokenization and further processing\n",
        "import re  # Regular expressions module for text cleaning\n",
        "\n",
        "cleaned = []  # List to store cleaned text\n",
        "for text in df['Message']:  # Iterating over each message in the 'Message' column\n",
        "    cleaned_text = re.sub(r'[^\\w\\s]', '', text)  # Removing punctuation and special characters\n",
        "    cleaned_text = re.sub(r'\\s+', ' ', cleaned_text)  # Replacing multiple spaces with a single space\n",
        "    cleaned_data = cleaned_text.strip()  # Removing leading and trailing spaces\n",
        "    cleaned.append(cleaned_data)  # Appending the cleaned text to the list\n",
        "\n",
        "# Tokenizing the cleaned text into words\n",
        "# Each cleaned text is split into a list of individual words for further analysis\n",
        "tokens = [word_tokenize(x) for x in cleaned]\n",
        "\n",
        "# Removing stopwords from the tokenized words\n",
        "# Stopwords are common words (e.g., \"the\", \"is\") that do not contribute much to analysis\n",
        "stop = set(stopwords.words('english'))  # Fetching the list of English stopwords\n",
        "stop_token = []  # List to store tokens after removing stopwords\n",
        "for k in range(len(df['Message'])):  # Iterating through tokenized text\n",
        "    p = [i for i in tokens[k] if i not in stop]  # Filtering out stopwords\n",
        "    stop_token.append(p)  # Adding filtered tokens to the list\n",
        "\n",
        "# Applying stemming to reduce words to their root form\n",
        "# This helps group similar words (e.g., \"running\", \"runner\" -> \"run\")\n",
        "from nltk.stem import PorterStemmer\n",
        "ps = PorterStemmer()  # Initializing the Porter Stemmer\n",
        "stemedata = []  # List to store stemmed data\n",
        "for message in stop_token:  # Iterating over tokens after stopword removal\n",
        "    st = [ps.stem(word) for word in message]  # Applying stemming to each word\n",
        "    stemedata.append(st)  # Adding the stemmed tokens to the list\n",
        "\n",
        "# Summary of steps:\n",
        "# 1. Necessary libraries and NLTK datasets are imported/downloaded.\n",
        "# 2. A spam email dataset is downloaded from Kaggle and loaded into a pandas DataFrame.\n",
        "# 3. The 'Message' column is cleaned by removing punctuation, special characters, and extra spaces.\n",
        "# 4. The cleaned text is tokenized into individual words.\n",
        "# 5. Stopwords are removed from the tokenized words to reduce noise.\n",
        "# 6. Stemming is applied to group similar words to their root form."
      ]
    },
    {
      "cell_type": "code",
      "source": [
        "from sklearn.feature_extraction.text import CountVectorizer"
      ],
      "metadata": {
        "id": "g7viR61exzZE"
      },
      "execution_count": 3,
      "outputs": []
    },
    {
      "cell_type": "code",
      "source": [],
      "metadata": {
        "id": "rCYA0m03zP0v"
      },
      "execution_count": null,
      "outputs": []
    }
  ]
}